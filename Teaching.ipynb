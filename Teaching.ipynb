{
 "cells": [
  {
   "cell_type": "markdown",
   "metadata": {},
   "source": [
    "## This is the notebook for learning Python. I have have split this into different weeks, but you can choose when to do them. My other notebook has some exercises and homework."
   ]
  },
  {
   "cell_type": "markdown",
   "metadata": {},
   "source": [
    "# Week 1"
   ]
  },
  {
   "cell_type": "markdown",
   "metadata": {},
   "source": [
    "# Intro to Computers/Programming - no code"
   ]
  },
  {
   "cell_type": "markdown",
   "metadata": {},
   "source": [
    "# Week 2"
   ]
  },
  {
   "cell_type": "markdown",
   "metadata": {},
   "source": [
    "## Download Anaconda Python\n",
    "Download the installer and follow the instructions at https://www.anaconda.com/products/individual to install Python\n",
    "\n",
    "## Start a jupyter notebook to test the installation\n",
    "Open Terminal on mac/linux, command prompt on Windows\n",
    "jupyter notebook\n",
    "Above command will give the URL to open the notebook, if the notebook does not open automatically in your browser, copy/paste the URL in any browser to open the notebook.\n",
    "\n",
    "Now, the ritual to learn any progamming language! Add a cell, type following, and run it. This is the \"Hello World!\" program.\n",
    "\n",
    "print(\"Hello World!\")"
   ]
  },
  {
   "cell_type": "markdown",
   "metadata": {},
   "source": [
    "# Week 3"
   ]
  },
  {
   "cell_type": "code",
   "execution_count": 25,
   "metadata": {},
   "outputs": [],
   "source": [
    "# Variables are a way to store values\n",
    "n = 0 # This means that I have a variable n and I'm storing 0 in it\n",
    "b = True # I'm saving a Boolean(True or False) in the variable b\n",
    "f = 0.25 # A float(decimal) is being stored in f\n",
    "# A String is a sequence of 0 or more characters\n",
    "empty_str = \"\"\n",
    "char_str = \"a\"\n",
    "word_str = \"Bob\"\n",
    "sentence_str = \"Bob kicked the soccer ball.\""
   ]
  },
  {
   "cell_type": "markdown",
   "metadata": {},
   "source": [
    "## Assignment Operators\n",
    "x = 5 - assign 5 to variable x\n",
    "\n",
    "## Arithmetic Operators\n",
    "x + y - x plus y\n",
    "\n",
    "x - y - x minus y\n",
    "\n",
    "x * y - x times y\n",
    "\n",
    "x/y - x divided by y\n",
    "\n",
    "x % y - modulus(remainder of division)\n",
    "\n",
    "## Comparison Operators\n",
    "All comparison operators results in boolean value - True or False\n",
    "\n",
    "x == y - is True when x equal to y else False\n",
    "\n",
    "x != y - is True when x not equal to y else False\n",
    "\n",
    "x < y - is True when x is less than y else False\n",
    "\n",
    "x > y - is True when x is greater than y else False\n",
    "\n",
    "x >= y - is True when is greater than or equal to y else False\n",
    "\n",
    "x <= y - is True when x is less than or equal to y else False\n",
    "\n",
    "## Logical Operators\n",
    "Logical operators operate on two boolean values to produce a boolean value\n",
    "\n",
    "Truth table for **and** operator\n",
    "\n",
    "x **and** y     result\n",
    "\n",
    "True  False False\n",
    "\n",
    "False True  False\n",
    "\n",
    "False False False\n",
    "\n",
    "True  True  True\n",
    "\n",
    "Truth table for **or** operator\n",
    "\n",
    "x **or** y     result\n",
    "\n",
    "True  False True\n",
    "\n",
    "False True  True\n",
    "\n",
    "False False False\n",
    "\n",
    "True  True  True\n",
    "\n",
    "Truth table for **not** operator\n",
    "\n",
    "**not** True = False\n",
    "\n",
    "**not** False = True\n"
   ]
  },
  {
   "cell_type": "code",
   "execution_count": 77,
   "metadata": {
    "scrolled": false
   },
   "outputs": [
    {
     "name": "stdout",
     "output_type": "stream",
     "text": [
      "n is not 0\n",
      "n is less than or equal to 1\n",
      "n is odd\n"
     ]
    }
   ],
   "source": [
    "# Conditional statement\n",
    "\n",
    "# There are various forms of if statements.\n",
    "\n",
    "n = 1\n",
    "\n",
    "# 1. Just if clause\n",
    "if n == 0:\n",
    "    print(\"n is 0\")\n",
    "\n",
    "# 2. If and else clause\n",
    "if n == 0:\n",
    "    print(\"n is 0\")\n",
    "else:\n",
    "    print(\"n is not 0\")\n",
    "\n",
    "# 3. If and 1 or more else if clauses\n",
    "if n == 0:\n",
    "    print(\"n is 0\")\n",
    "elif n <= 1:\n",
    "    print(\"n is less than or equal to 1\")\n",
    "elif n == 2:\n",
    "    print(\"n is 2\")\n",
    "\n",
    "# 4. If and 1 or more else if clauses, followed by an else clause\n",
    "if n == 0:\n",
    "    print(\"n is 0\")\n",
    "elif n % 2 == 0:\n",
    "    print(\"n is even\")\n",
    "else:\n",
    "    print(\"n is odd\")"
   ]
  },
  {
   "cell_type": "markdown",
   "metadata": {},
   "source": [
    "# Week 4"
   ]
  },
  {
   "cell_type": "code",
   "execution_count": 79,
   "metadata": {},
   "outputs": [
    {
     "name": "stdout",
     "output_type": "stream",
     "text": [
      "While Loop \n",
      "\n",
      "1\n",
      "2\n",
      "3\n",
      "\n",
      "For Loop\n",
      "\n",
      "1\n",
      "2\n",
      "3\n"
     ]
    }
   ],
   "source": [
    "# Loops allow you to repeat tasks\n",
    "\n",
    "# A While Loop does something while a statement is true\n",
    "i = 1\n",
    "print(\"While Loop \\n\")\n",
    "while i <= 3:\n",
    "    print(i)\n",
    "    i += 1\n",
    "\n",
    "# A For Loop is used for iterating over sequences\n",
    "print(\"\\nFor Loop\\n\")\n",
    "for i in range(1,4): # range(x, y) will create a sequence from x all the way to y-1\n",
    "    print(i)"
   ]
  },
  {
   "cell_type": "markdown",
   "metadata": {},
   "source": [
    "# Week 5"
   ]
  },
  {
   "cell_type": "code",
   "execution_count": 82,
   "metadata": {},
   "outputs": [
    {
     "name": "stdout",
     "output_type": "stream",
     "text": [
      "Hello from John\n",
      "Hello from Mary\n",
      "3.4\n",
      "Hello from f0!\n",
      "Hello from f2!\n",
      "Hello from f5!\n",
      "15\n"
     ]
    }
   ],
   "source": [
    "# A function is a block of code that runs when you call it.\n",
    "# You define a function by typing def, the name of the function, and in brackets any arguments(this is optional):\n",
    "def my_function(name):\n",
    "    print(\"Hello from \" + name)\n",
    "\n",
    "# To call it you just type the name and brackets, and if there are any arguments you type those in the brackets\n",
    "my_function(\"John\")\n",
    "my_function(\"Mary\")\n",
    "\n",
    "# Increment by 2\n",
    "def add(x, y):\n",
    "    return x + y\n",
    "\n",
    "z = add(1.1, 2.3)\n",
    "print(z)\n",
    "\n",
    "# A function can have 0 or more input arguments and can optionally return one value\n",
    "def f0():\n",
    "    print(\"Hello from f0!\")\n",
    "\n",
    "def f2(a, b):\n",
    "    print(\"Hello from f2!\")\n",
    "\n",
    "def f5(a, b, c, d, e):\n",
    "    print(\"Hello from f5!\")\n",
    "    return a + b + c + d + e\n",
    "\n",
    "f0()\n",
    "f2(1, 111)\n",
    "z = f5(1, 2, 3, 4, 5)\n",
    "print(z)"
   ]
  },
  {
   "cell_type": "markdown",
   "metadata": {},
   "source": [
    "# Week 6"
   ]
  },
  {
   "cell_type": "code",
   "execution_count": 114,
   "metadata": {},
   "outputs": [
    {
     "name": "stdout",
     "output_type": "stream",
     "text": [
      "Length of list: 8\n",
      "2nd element for fib_lst[1]: 1\n",
      "2nd element for fib_lst[1]: -1\n",
      "List before append: [0, -1, 1, 2, 3, 5, 8, 13]\n",
      "List after append: [0, -1, 1, 2, 3, 5, 8, 13, 21]\n",
      "List after remove: [-1, 1, 2, 3, 5, 8, 13, 21]\n"
     ]
    }
   ],
   "source": [
    "# A data structure is just a way to organize data. There are lots of types of data structures,\n",
    "# but for now I will only mention 3 of them. Every data structure provides a way to add, delete or retrieve values.\n",
    "\n",
    "# To put it simply a list is collection of data. data can be any of integer, float, boolean,\n",
    "# string type or a data structure itself!\n",
    "\n",
    "# Here fib_lst is a collection of integers.\n",
    "fib_lst = [0,1,1,2,3,5,8,13]\n",
    "\n",
    "# Different operations of list\n",
    "print(\"Length of list:\", len(fib_lst))\n",
    "# Get ith element of list. ith index starts from 0, the first element\n",
    "print(\"2nd element for fib_lst[1]:\", fib_lst[1])\n",
    "# Set value based on index\n",
    "fib_lst[1] = -1\n",
    "print(\"2nd element for fib_lst[1]:\", fib_lst[1])\n",
    "# Add element to the list\n",
    "print(\"List before append:\", fib_lst)\n",
    "fib_lst.append(21)\n",
    "print(\"List after append:\", fib_lst)\n",
    "# Delete element from list\n",
    "fib_lst.remove(0)\n",
    "print(\"List after remove:\", fib_lst)"
   ]
  },
  {
   "cell_type": "code",
   "execution_count": 115,
   "metadata": {},
   "outputs": [
    {
     "name": "stdout",
     "output_type": "stream",
     "text": [
      "Length of dict: 3\n",
      "Value of key pen: 1.5\n",
      "Value of key pen(after change): 6.5\n",
      "Print of pen: 6.5\n",
      "Price of pencil is not known\n",
      "List before update: {'pen': 6.5, 'ice cream': 4.99, 'cake': 19.99}\n",
      "List after update: {'pen': 6.5, 'ice cream': 4.99, 'cake': 19.99, 'pencil': 0.5}\n",
      "Deleted Value: 4.99\n",
      "List after pop: {'pen': 6.5, 'cake': 19.99, 'pencil': 0.5}\n"
     ]
    }
   ],
   "source": [
    "# A dictionary is a collection of key, value pairs. Every value has a associated key, like a name.\n",
    "# Below, price_dict is a dictionary with 3 values, and their names.\n",
    "price_dict = {\"pen\" : 1.50, \"ice cream\" : 4.99, \"cake\" : 19.99}\n",
    "\n",
    "# Different operations of dict\n",
    "print(\"Length of dict:\", len(price_dict))\n",
    "# Get value based on key\n",
    "print(\"Value of key pen:\", price_dict[\"pen\"])\n",
    "# Set value based on key\n",
    "price_dict[\"pen\"] = price_dict[\"pen\"] + 5.00\n",
    "print(\"Value of key pen(after change):\", price_dict[\"pen\"])\n",
    "# Check if a key exists in the dict\n",
    "if \"pen\" in price_dict:\n",
    "    print(\"Print of pen:\", price_dict[\"pen\"])\n",
    "\n",
    "if not \"pencil\" in price_dict:\n",
    "    print(\"Price of pencil is not known\")\n",
    "# Append element from dict\n",
    "print(\"List before update:\", price_dict)\n",
    "price_dict.update({\"pencil\" : 0.50})\n",
    "print(\"List after update:\", price_dict)\n",
    "# Delete element from dict\n",
    "print(\"Deleted Value:\", price_dict.pop(\"ice cream\"))\n",
    "print(\"List after pop:\", price_dict)"
   ]
  },
  {
   "cell_type": "code",
   "execution_count": 116,
   "metadata": {
    "scrolled": false
   },
   "outputs": [
    {
     "name": "stdout",
     "output_type": "stream",
     "text": [
      "2nd element of the 3rd list: 8\n",
      "3rd element of the 3rd element of the 1st list: 9\n"
     ]
    }
   ],
   "source": [
    "# twoD_lst is a list, where values are a list as well. This type of lists are list of lists,\n",
    "# or two dimensional list.\n",
    "twoD_lst = [[1,2,3],[4,5],[7,8,9,11]]\n",
    "print(\"2nd element of the 3rd list:\", twoD_lst[2][1])\n",
    "\n",
    "# Python allows to create N dimensional list, N can be 1, 2, 3, or more.\n",
    "# Following is an example of three dimensional list.\n",
    "threeD_lst = [[[1],[4,5],[7,8,9]], [[10,11,12],[13,14,15],[16,17,18]], [[19,20,21],[22,23,24],[25,26,27]]]\n",
    "print(\"3rd element of the 3rd element of the 1st list:\", threeD_lst[0][2][2])"
   ]
  },
  {
   "cell_type": "markdown",
   "metadata": {},
   "source": [
    "# Week 7"
   ]
  },
  {
   "cell_type": "markdown",
   "metadata": {},
   "source": [
    "## What are modules?\n",
    "A module is a set of functions that you can download to help you with a task. In Python, there are modules for everything from basic math to machine learning and more, but for now I will teach you about Pandas.\n",
    "\n",
    "## What is Pandas?\n",
    "Pandas is one of the most used libraries in Python. It is used for all kinds of data analysis and manipulation. With Pandas you can create tables, plot data, read files, and much more. But the most important part of Pandas is a DataFrame, the entire library is built around haw to use, and manipulate, DataFrames.\n",
    "\n",
    "## What is a DataFrame?\n",
    "A DataFrame is a 2 dimensional ordered data structure that is similar to a table or an Excel Spredsheet.\n",
    "Note: df is short for DataFrame"
   ]
  },
  {
   "cell_type": "code",
   "execution_count": 161,
   "metadata": {},
   "outputs": [
    {
     "data": {
      "text/html": [
       "<div>\n",
       "<style scoped>\n",
       "    .dataframe tbody tr th:only-of-type {\n",
       "        vertical-align: middle;\n",
       "    }\n",
       "\n",
       "    .dataframe tbody tr th {\n",
       "        vertical-align: top;\n",
       "    }\n",
       "\n",
       "    .dataframe thead th {\n",
       "        text-align: right;\n",
       "    }\n",
       "</style>\n",
       "<table border=\"1\" class=\"dataframe\">\n",
       "  <thead>\n",
       "    <tr style=\"text-align: right;\">\n",
       "      <th></th>\n",
       "      <th>Name</th>\n",
       "      <th>Age</th>\n",
       "      <th>Height (in inches)</th>\n",
       "    </tr>\n",
       "  </thead>\n",
       "  <tbody>\n",
       "    <tr>\n",
       "      <th>0</th>\n",
       "      <td>John</td>\n",
       "      <td>10</td>\n",
       "      <td>54</td>\n",
       "    </tr>\n",
       "    <tr>\n",
       "      <th>1</th>\n",
       "      <td>Mary</td>\n",
       "      <td>11</td>\n",
       "      <td>50</td>\n",
       "    </tr>\n",
       "    <tr>\n",
       "      <th>2</th>\n",
       "      <td>Bob</td>\n",
       "      <td>9</td>\n",
       "      <td>52</td>\n",
       "    </tr>\n",
       "    <tr>\n",
       "      <th>3</th>\n",
       "      <td>Ryan</td>\n",
       "      <td>13</td>\n",
       "      <td>60</td>\n",
       "    </tr>\n",
       "  </tbody>\n",
       "</table>\n",
       "</div>"
      ],
      "text/plain": [
       "   Name  Age  Height (in inches)\n",
       "0  John   10                  54\n",
       "1  Mary   11                  50\n",
       "2   Bob    9                  52\n",
       "3  Ryan   13                  60"
      ]
     },
     "execution_count": 161,
     "metadata": {},
     "output_type": "execute_result"
    }
   ],
   "source": [
    "# First we have to import pandas to use it(pd is the convention)\n",
    "import pandas as pd\n",
    "\n",
    "# This is a df that represents the classes student's names, heights, and ages.\n",
    "# First you create the data which is a dictionary,\n",
    "data = {\n",
    "    \"Name\":[\"John\", \"Mary\", \"Bob\", \"Ryan\"],\n",
    "    \"Age\":[10,11,9,13],\n",
    "    \"Height (in inches)\":[54,50,52,60]\n",
    "}\n",
    "# and then you put it into the pandas.DataFrame function and it creates a df from the dictionary\n",
    "student_df = pd.DataFrame(data)\n",
    "# This is how the data frame looks\n",
    "student_df"
   ]
  },
  {
   "cell_type": "markdown",
   "metadata": {},
   "source": [
    "# Week 8"
   ]
  },
  {
   "cell_type": "code",
   "execution_count": 162,
   "metadata": {
    "scrolled": false
   },
   "outputs": [
    {
     "name": "stdout",
     "output_type": "stream",
     "text": [
      "All ages:\n",
      "0    10\n",
      "1    11\n",
      "2     9\n",
      "3    13\n",
      "Name: Age, dtype: int64\n",
      "Bob's age: 9\n",
      "\n",
      "df before Birthday:\n",
      "    Name  Age  Height (in inches)\n",
      "0  John   10                  54\n",
      "1  Mary   11                  50\n",
      "2   Bob    9                  52\n",
      "3  Ryan   13                  60\n",
      "\n",
      "df after Birthday:\n",
      "    Name  Age  Height (in inches)\n",
      "0  John   11                  54\n",
      "1  Mary   11                  50\n",
      "2   Bob    9                  52\n",
      "3  Ryan   13                  60\n",
      "\n",
      "Descirbe the data:\n",
      "              Age  Height (in inches)\n",
      "count   4.000000            4.000000\n",
      "mean   11.000000           54.000000\n",
      "std     1.632993            4.320494\n",
      "min     9.000000           50.000000\n",
      "25%    10.500000           51.500000\n",
      "50%    11.000000           53.000000\n",
      "75%    11.500000           55.500000\n",
      "max    13.000000           60.000000\n"
     ]
    },
    {
     "data": {
      "text/plain": [
       "<AxesSubplot:xlabel='Name'>"
      ]
     },
     "execution_count": 162,
     "metadata": {},
     "output_type": "execute_result"
    },
    {
     "data": {
      "image/png": "[encoded data removed]",
      "text/plain": [
       "<Figure size 432x288 with 1 Axes>"
      ]
     },
     "metadata": {
      "needs_background": "light"
     },
     "output_type": "display_data"
    }
   ],
   "source": [
    "# Lets use the df from Week 7 to demostrate some more of the things you can do with pandas\n",
    "# This is how to access a particular column\n",
    "print(\"All ages:\")\n",
    "print(student_df[\"Age\"])\n",
    "# and this is how to access a particular value in the column\n",
    "print(\"Bob's age:\",student_df[\"Age\"][2]) # If you look at the table above you can see that 2 represents Bob's data\n",
    "# Lets say that John turned 11 and we need to change the value we can just do this:\n",
    "print(\"\\ndf before Birthday:\\n\", student_df)\n",
    "student_df.at[0, \"Age\"] = 11\n",
    "print(\"\\ndf after Birthday:\\n\", student_df)\n",
    "# df.descibe will give you some usefull data points for the df\n",
    "print(\"\\nDescirbe the data:\\n\", student_df.describe())\n",
    "# We can also plot a bar graph\n",
    "student_df.plot(kind = \"bar\", x = \"Name\")"
   ]
  },
  {
   "cell_type": "markdown",
   "metadata": {},
   "source": [
    "# Week 9"
   ]
  },
  {
   "cell_type": "markdown",
   "metadata": {},
   "source": [
    "## How do Websites Work?\n",
    "All websites are based on the client and server model. "
   ]
  }
 ],
 "metadata": {
  "kernelspec": {
   "display_name": "Python 3",
   "language": "python",
   "name": "python3"
  },
  "language_info": {
   "codemirror_mode": {
    "name": "ipython",
    "version": 3
   },
   "file_extension": ".py",
   "mimetype": "text/x-python",
   "name": "python",
   "nbconvert_exporter": "python",
   "pygments_lexer": "ipython3",
   "version": "3.8.5"
  }
 },
 "nbformat": 4,
 "nbformat_minor": 4
}
